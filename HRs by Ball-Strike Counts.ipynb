{
 "cells": [
  {
   "cell_type": "markdown",
   "metadata": {},
   "source": [
    "# Homeruns by Ball-Strike Counts\n",
    "\n",
    "An analysis of the percentage of homeruns hit on certain ball-strike counts.  Background for this analysis can be found in the Baseball Prospectus article by Jeff Wiser at https://www.baseballprospectus.com/news/article/52470/from-the-outfield-grass-getting-ahead-and-paying-the-price/"
   ]
  },
  {
   "cell_type": "code",
   "execution_count": 1,
   "metadata": {},
   "outputs": [],
   "source": [
    "import pandas as pd\n",
    "from pybaseball import statcast\n",
    "import warnings\n",
    "warnings.filterwarnings('ignore')"
   ]
  },
  {
   "cell_type": "markdown",
   "metadata": {},
   "source": [
    "### Function to build the Dataset"
   ]
  },
  {
   "cell_type": "code",
   "execution_count": 2,
   "metadata": {},
   "outputs": [],
   "source": [
    "def get_HR_ball_strike_counts(year_list):\n",
    "    \n",
    "    data_list = []\n",
    "    for year in year_list:\n",
    "        \n",
    "        # import the data\n",
    "        data = pd.read_csv(f\"/Users/chrisjackson/sports/baseball/data/pitch_data_{year}.csv\")\n",
    "\n",
    "        # format some columns as strings\n",
    "        for col in ['game_pk', 'pitcher', 'batter', 'inning', 'outs_when_up', 'batter', 'balls', 'strikes']:\n",
    "            data[col] = data[col].astype(int).astype(str)\n",
    "        \n",
    "        # select the columns we need\n",
    "        cols_to_keep = ['game_pk', 'pitcher', 'batter', 'inning', \n",
    "                        'outs_when_up', 'at_bat_number', 'pitch_number', 'balls', 'strikes', 'events']\n",
    "        data = data[cols_to_keep]\n",
    "\n",
    "        # sort the data \n",
    "        data.sort_values(by=['game_pk', 'pitcher', 'inning', 'at_bat_number', 'pitch_number', 'outs_when_up'], inplace=True)\n",
    "\n",
    "        # build an at-bat index\n",
    "        data['ab_index'] = data['game_pk'] + \"_\" + data['pitcher'] + \"_\" +\\\n",
    "                           data['batter'] + \"_\" + data['inning'] + \"_\" +\\\n",
    "                           data['outs_when_up']\n",
    "\n",
    "        # combine balls and strikes into a \"count\" column\n",
    "        data['count'] = '(' + data['balls'] + ',' + data['strikes'] + ')'\n",
    "\n",
    "        # select the columns we need\n",
    "        data = data[['ab_index', 'count', 'events']]\n",
    "\n",
    "        # groupby at-bat and aggregate counts and events into lists\n",
    "        data = pd.DataFrame(data.groupby('ab_index').agg(lambda x: list(x)))\n",
    "\n",
    "        # keep the last item in the event list (the thing that actually happened)\n",
    "        data['events'] = data['events'].apply(lambda x: x[-1])\n",
    "\n",
    "        # select the homerun events\n",
    "        data = data[data['events'] == 'home_run']\n",
    "        \n",
    "        data.drop('events', axis=1, inplace=True)\n",
    "        \n",
    "        data_list.append(data)\n",
    "    \n",
    "    data = pd.concat(data_list)\n",
    "        \n",
    "    return data"
   ]
  },
  {
   "cell_type": "code",
   "execution_count": 3,
   "metadata": {},
   "outputs": [
    {
     "name": "stdout",
     "output_type": "stream",
     "text": [
      "Total number of homeruns in 2015-18: 22209\n"
     ]
    }
   ],
   "source": [
    "data2015_18 = get_HR_ball_strike_counts(['2015', '2016', '2017', '2018'])\n",
    "print(f\"Total number of homeruns in 2015-18: {len(data2015_18)}\")"
   ]
  },
  {
   "cell_type": "code",
   "execution_count": 4,
   "metadata": {},
   "outputs": [
    {
     "name": "stdout",
     "output_type": "stream",
     "text": [
      "Total number of homeruns in 2019: 5109\n"
     ]
    }
   ],
   "source": [
    "data2019 = get_HR_ball_strike_counts(['2019'])\n",
    "print(f\"Total number of homeruns in 2019: {len(data2019)}\")"
   ]
  },
  {
   "cell_type": "markdown",
   "metadata": {},
   "source": [
    "### Percentage of HRs Hit Thru 3-1 Counts"
   ]
  },
  {
   "cell_type": "code",
   "execution_count": 5,
   "metadata": {},
   "outputs": [
    {
     "name": "stdout",
     "output_type": "stream",
     "text": [
      "2015-18: \t7.48%\n",
      "2019: \t\t7.01%\n"
     ]
    }
   ],
   "source": [
    "data2015_18['HR_thru_3-1'] = data2015_18['count'].apply(lambda x: '(3,1)' in x)\n",
    "data2019['HR_thru_3-1'] = data2019['count'].apply(lambda x: '(3,1)' in x)\n",
    "\n",
    "print(f\"2015-18: \\t{round(len(data2015_18[data2015_18['HR_thru_3-1']]) / len(data2015_18) * 100., 2)}%\")\n",
    "print(f\"2019: \\t\\t{round(len(data2019[data2019['HR_thru_3-1']]) / len(data2019) * 100., 2)}%\")"
   ]
  },
  {
   "cell_type": "markdown",
   "metadata": {},
   "source": [
    "### Percentage of HRs Hit Thru 2-0 Counts"
   ]
  },
  {
   "cell_type": "code",
   "execution_count": 6,
   "metadata": {},
   "outputs": [
    {
     "name": "stdout",
     "output_type": "stream",
     "text": [
      "2015-18: \t14.87%\n",
      "2019: \t\t13.86%\n"
     ]
    }
   ],
   "source": [
    "data2015_18['HR_thru_2-0'] = data2015_18['count'].apply(lambda x: '(2,0)' in x)\n",
    "data2019['HR_thru_2-0'] = data2019['count'].apply(lambda x: '(2,0)' in x)\n",
    "\n",
    "print(f\"2015-18: \\t{round(len(data2015_18[data2015_18['HR_thru_2-0']]) / len(data2015_18) * 100., 2)}%\")\n",
    "print(f\"2019: \\t\\t{round(len(data2019[data2019['HR_thru_2-0']]) / len(data2019) * 100., 2)}%\")"
   ]
  },
  {
   "cell_type": "markdown",
   "metadata": {},
   "source": [
    "### Percentage of HRs Hit Thru 0-2 Counts"
   ]
  },
  {
   "cell_type": "code",
   "execution_count": 7,
   "metadata": {},
   "outputs": [
    {
     "name": "stdout",
     "output_type": "stream",
     "text": [
      "2015-18: \t11.18%\n",
      "2019: \t\t12.29%\n"
     ]
    }
   ],
   "source": [
    "data2015_18['HR_thru_0-2'] = data2015_18['count'].apply(lambda x: '(0,2)' in x)\n",
    "data2019['HR_thru_0-2'] = data2019['count'].apply(lambda x: '(0,2)' in x)\n",
    "\n",
    "print(f\"2015-18: \\t{round(len(data2015_18[data2015_18['HR_thru_0-2']]) / len(data2015_18) * 100., 2)}%\")\n",
    "print(f\"2019: \\t\\t{round(len(data2019[data2019['HR_thru_0-2']]) / len(data2019) * 100., 2)}%\")"
   ]
  },
  {
   "cell_type": "markdown",
   "metadata": {},
   "source": [
    "### Percentage of HRs Hit Thru 1-2 Counts"
   ]
  },
  {
   "cell_type": "code",
   "execution_count": 8,
   "metadata": {},
   "outputs": [
    {
     "name": "stdout",
     "output_type": "stream",
     "text": [
      "2015-18: \t10.64%\n",
      "2019: \t\t11.16%\n"
     ]
    }
   ],
   "source": [
    "data2015_18['HR_thru_1-2'] = data2015_18['count'].apply(lambda x: '(1,2)' in x and '(0,2)' not in x)\n",
    "data2019['HR_thru_1-2'] = data2019['count'].apply(lambda x: '(1,2)' in x and '(0,2)' not in x)\n",
    "\n",
    "print(f\"2015-18: \\t{round(len(data2015_18[data2015_18['HR_thru_1-2']]) / len(data2015_18) * 100., 2)}%\")\n",
    "print(f\"2019: \\t\\t{round(len(data2019[data2019['HR_thru_1-2']]) / len(data2019) * 100., 2)}%\")"
   ]
  },
  {
   "cell_type": "markdown",
   "metadata": {},
   "source": [
    "### Percentage of HRs Hit Thru 2-2 Counts"
   ]
  },
  {
   "cell_type": "code",
   "execution_count": 9,
   "metadata": {},
   "outputs": [
    {
     "name": "stdout",
     "output_type": "stream",
     "text": [
      "2015-18: \t6.52%\n",
      "2019: \t\t6.52%\n"
     ]
    }
   ],
   "source": [
    "data2015_18['HR_thru_2-2'] = data2015_18['count'].apply(lambda x: '(2,2)' in x and '(0,2)' not in x and '(1,2)' not in x)\n",
    "data2019['HR_thru_2-2'] = data2019['count'].apply(lambda x: '(2,2)' in x and '(0,2)' not in x and '(1,2)' not in x)\n",
    "\n",
    "print(f\"2015-18: \\t{round(len(data2015_18[data2015_18['HR_thru_2-2']]) / len(data2015_18) * 100., 2)}%\")\n",
    "print(f\"2019: \\t\\t{round(len(data2019[data2019['HR_thru_2-2']]) / len(data2019) * 100., 2)}%\")"
   ]
  },
  {
   "cell_type": "markdown",
   "metadata": {},
   "source": [
    "## HR by Ball-Strike Counts for Individual Pitchers"
   ]
  },
  {
   "cell_type": "code",
   "execution_count": null,
   "metadata": {},
   "outputs": [],
   "source": [
    "pitcher_data_2019 = pd.read_csv(\"/Users/chrisjackson/sports/baseball/data/pitch_data_2019.csv\")\n",
    "\n",
    "pitcher_data_2019 = pitcher_data_2019[pitcher_data_2019['events'] == 'home_run']\n",
    "\n",
    "pitcher_data_2019 = pitcher_data_2019[['player_name', 'balls', 'strikes']]\n",
    "\n",
    "pitcher_data_2019.head()"
   ]
  },
  {
   "cell_type": "code",
   "execution_count": null,
   "metadata": {},
   "outputs": [],
   "source": [
    "hr_0_2_counts = pitcher_data_2019[(pitcher_data_2019['balls'] == 0.0) & (pitcher_data_2019['strikes'] == 2.0)]\n",
    "\n",
    "pd.DataFrame(hr_0_2_counts.groupby('player_name').size()).sort_values(by=0, ascending=False)"
   ]
  },
  {
   "cell_type": "code",
   "execution_count": null,
   "metadata": {},
   "outputs": [],
   "source": []
  }
 ],
 "metadata": {
  "kernelspec": {
   "display_name": "Python 3",
   "language": "python",
   "name": "python3"
  },
  "language_info": {
   "codemirror_mode": {
    "name": "ipython",
    "version": 3
   },
   "file_extension": ".py",
   "mimetype": "text/x-python",
   "name": "python",
   "nbconvert_exporter": "python",
   "pygments_lexer": "ipython3",
   "version": "3.7.0"
  }
 },
 "nbformat": 4,
 "nbformat_minor": 2
}
